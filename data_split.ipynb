{
 "cells": [
  {
   "cell_type": "code",
   "execution_count": 11,
   "id": "9b11b702",
   "metadata": {},
   "outputs": [],
   "source": [
    "import pandas as pd\n",
    "from sklearn.model_selection import train_test_split\n",
    "import matplotlib.pyplot as plt\n",
    "import seaborn as sns"
   ]
  },
  {
   "cell_type": "code",
   "execution_count": 4,
   "id": "4a0a841e",
   "metadata": {},
   "outputs": [
    {
     "name": "stdout",
     "output_type": "stream",
     "text": [
      "Dataset shape: (14084, 19)\n"
     ]
    }
   ],
   "source": [
    "df=pd.read_csv(\"audiobook_features.csv\")\n",
    "print(\"Dataset shape:\",df.shape)"
   ]
  },
  {
   "cell_type": "code",
   "execution_count": 5,
   "id": "8e4cfa09",
   "metadata": {},
   "outputs": [],
   "source": [
    "X = df.drop(columns=[\"Target\"])\n",
    "y = df[\"Target\"]"
   ]
  },
  {
   "cell_type": "code",
   "execution_count": 6,
   "id": "8f32f787",
   "metadata": {},
   "outputs": [
    {
     "name": "stdout",
     "output_type": "stream",
     "text": [
      "Features shape: (14084, 18)\n",
      "Target shape: (14084,)\n"
     ]
    }
   ],
   "source": [
    "print(\"Features shape:\",X.shape)\n",
    "print(\"Target shape:\",y.shape)"
   ]
  },
  {
   "cell_type": "code",
   "execution_count": 8,
   "id": "13ab1351",
   "metadata": {},
   "outputs": [],
   "source": [
    "X_train, X_test, y_train, y_test = train_test_split(\n",
    "    X, y,\n",
    "    test_size=0.2,\n",
    "    random_state=42,\n",
    "    stratify=y\n",
    ")"
   ]
  },
  {
   "cell_type": "code",
   "execution_count": 9,
   "id": "c10f85cf",
   "metadata": {},
   "outputs": [
    {
     "name": "stdout",
     "output_type": "stream",
     "text": [
      "Train set size: (11267, 18) (11267,)\n",
      "Test set size: (2817, 18) (2817,)\n"
     ]
    }
   ],
   "source": [
    "print(\"Train set size:\", X_train.shape, y_train.shape)\n",
    "print(\"Test set size:\", X_test.shape, y_test.shape)\n"
   ]
  },
  {
   "cell_type": "code",
   "execution_count": 10,
   "id": "4361be49",
   "metadata": {},
   "outputs": [
    {
     "name": "stdout",
     "output_type": "stream",
     "text": [
      "Train/Test sets saved : X_train.csv, X_test.csv, y_train.csv, y_test.csv\n"
     ]
    }
   ],
   "source": [
    "X_train.to_csv(\"X_train.csv\", index=False)\n",
    "X_test.to_csv(\"X_test.csv\", index=False)\n",
    "y_train.to_csv(\"y_train.csv\", index=False)\n",
    "y_test.to_csv(\"y_test.csv\", index=False)\n",
    "\n",
    "\n",
    "print(\"Train/Test sets saved : X_train.csv, X_test.csv, y_train.csv, y_test.csv\")"
   ]
  },
  {
   "cell_type": "code",
   "execution_count": 12,
   "id": "df86313a",
   "metadata": {},
   "outputs": [],
   "source": [
    "# Load the saved splits\n",
    "y_train = pd.read_csv(\"y_train.csv\")\n",
    "y_test = pd.read_csv(\"y_test.csv\")"
   ]
  },
  {
   "cell_type": "code",
   "execution_count": 13,
   "id": "a950bb2d",
   "metadata": {},
   "outputs": [
    {
     "name": "stdout",
     "output_type": "stream",
     "text": [
      "Train split churn %:\n",
      " Target\n",
      "0    84.112896\n",
      "1    15.887104\n",
      "Name: proportion, dtype: float64\n",
      "\n",
      "Test split churn %:\n",
      " Target\n",
      "0    84.132055\n",
      "1    15.867945\n",
      "Name: proportion, dtype: float64\n"
     ]
    }
   ],
   "source": [
    "train_counts = y_train[\"Target\"].value_counts(normalize=True) * 100\n",
    "test_counts = y_test[\"Target\"].value_counts(normalize=True) * 100\n",
    "\n",
    "print(\"Train split churn %:\\n\", train_counts)\n",
    "print(\"\\nTest split churn %:\\n\", test_counts)\n"
   ]
  },
  {
   "cell_type": "code",
   "execution_count": 14,
   "id": "8d0eeece",
   "metadata": {},
   "outputs": [],
   "source": [
    "# Combine into a DataFrame for visualization\n",
    "balance_df = pd.DataFrame({\n",
    "    \"Train\": train_counts,\n",
    "    \"Test\": test_counts\n",
    "})"
   ]
  },
  {
   "cell_type": "code",
   "execution_count": 15,
   "id": "7b216235",
   "metadata": {},
   "outputs": [
    {
     "data": {
      "image/png": "[encoded data removed]",
      "text/plain": [
       "<Figure size 600x400 with 1 Axes>"
      ]
     },
     "metadata": {},
     "output_type": "display_data"
    }
   ],
   "source": [
    "\n",
    "# Plot side-by-side\n",
    "balance_df.T.plot(kind=\"bar\", figsize=(6,4))\n",
    "plt.title(\"Churn Balance in Train vs Test Sets\")\n",
    "plt.ylabel(\"Percentage (%)\")\n",
    "plt.xlabel(\"Dataset\")\n",
    "plt.xticks(rotation=0)\n",
    "plt.legend(title=\"Target\", labels=[\"No Churn (0)\", \"Churn (1)\"])\n",
    "plt.show()"
   ]
  },
  {
   "cell_type": "code",
   "execution_count": null,
   "id": "5ee1045f",
   "metadata": {},
   "outputs": [],
   "source": []
  }
 ],
 "metadata": {
  "kernelspec": {
   "display_name": "base",
   "language": "python",
   "name": "python3"
  },
  "language_info": {
   "codemirror_mode": {
    "name": "ipython",
    "version": 3
   },
   "file_extension": ".py",
   "mimetype": "text/x-python",
   "name": "python",
   "nbconvert_exporter": "python",
   "pygments_lexer": "ipython3",
   "version": "3.12.4"
  }
 },
 "nbformat": 4,
 "nbformat_minor": 5
}
