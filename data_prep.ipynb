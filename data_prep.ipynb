{
 "cells": [
  {
   "cell_type": "code",
   "execution_count": 1,
   "id": "b394db78",
   "metadata": {},
   "outputs": [],
   "source": [
    "import pandas as pd\n",
    "import numpy as np\n",
    "import matplotlib.pyplot as plt\n",
    "import seaborn as sns\n",
    "\n",
    "sns.set(style=\"whitegrid\" , palette=\"muted\")\n"
   ]
  },
  {
   "cell_type": "code",
   "execution_count": 2,
   "id": "51e9ac89",
   "metadata": {},
   "outputs": [
    {
     "name": "stdout",
     "output_type": "stream",
     "text": [
      "Original Shape: (14084, 12)\n"
     ]
    }
   ],
   "source": [
    "df=pd.read_csv(\"audiobook_data_2.csv\")\n",
    "df.rename(columns={\"Unnamed:0\": \"row_id\"}, inplace=True)\n",
    "print(\"Original Shape:\",df.shape)"
   ]
  },
  {
   "cell_type": "code",
   "execution_count": 3,
   "id": "d5dd0b67",
   "metadata": {},
   "outputs": [
    {
     "name": "stdout",
     "output_type": "stream",
     "text": [
      "Missing values:\n",
      " Unnamed: 0                         0\n",
      "Book_length(mins)_overall          0\n",
      "Book_length(mins)_avg              0\n",
      "Price_overall                      0\n",
      "Price_avg                          0\n",
      "Review                             0\n",
      "Review10/10                        0\n",
      "Completion                         0\n",
      "Minutes_listened                   0\n",
      "Support_Request                    0\n",
      "Last_Visited_mins_Purchase_date    0\n",
      "Target                             0\n",
      "dtype: int64\n",
      "Shape after dropping missing values: (14084, 12)\n"
     ]
    }
   ],
   "source": [
    "print(\"Missing values:\\n\",df.isna().sum())\n",
    "df.dropna(inplace=True)\n",
    "print(\"Shape after dropping missing values:\",df.shape)"
   ]
  },
  {
   "cell_type": "code",
   "execution_count": 4,
   "id": "7f6dfce6",
   "metadata": {},
   "outputs": [
    {
     "name": "stdout",
     "output_type": "stream",
     "text": [
      "Duplicated rows: 0\n",
      "Shape after dropping duplicates: (14084, 12)\n"
     ]
    }
   ],
   "source": [
    "print(\"Duplicated rows:\",df.duplicated().sum())\n",
    "df.drop_duplicates(inplace=True)\n",
    "print(\"Shape after dropping duplicates:\",df.shape)"
   ]
  },
  {
   "cell_type": "code",
   "execution_count": 6,
   "id": "49182ce9",
   "metadata": {},
   "outputs": [
    {
     "name": "stdout",
     "output_type": "stream",
     "text": [
      "Outliers handled(using IQR).\n"
     ]
    }
   ],
   "source": [
    "numeric_cols=df.select_dtypes(include=[np.number]).columns.tolist()\n",
    "\n",
    "for col in numeric_cols:\n",
    "    if col not in [\"row_id\",\"Target\"]:\n",
    "        q1=df[col].quantile(0.25)\n",
    "        q3=df[col].quantile(0.75)\n",
    "        iqr=q3-q1\n",
    "        lower=q1-1.5*iqr\n",
    "        upper=q3+1.5*iqr\n",
    "        df[col]=np.where(df[col]< lower , lower, np.where(df[col] > upper,upper,df[col]))\n",
    "print(\"Outliers handled(using IQR).\")        "
   ]
  },
  {
   "cell_type": "code",
   "execution_count": 7,
   "id": "8d01611f",
   "metadata": {},
   "outputs": [
    {
     "name": "stdout",
     "output_type": "stream",
     "text": [
      "New features created:\n",
      "Listening_Efficiency\n",
      "Value_for_money\n"
     ]
    }
   ],
   "source": [
    "df[\"Listening_Efficiency\"] = df[\"Minutes_listened\"]/(df[\"Book_length(mins)_overall\"]+1)\n",
    "df[\"Value_for_money\"] = df[\"Minutes_listened\"] / (df[\"Price_overall\"]+1)\n",
    "print(\"New features created:\")\n",
    "print(\"Listening_Efficiency\")\n",
    "print(\"Value_for_money\")"
   ]
  },
  {
   "cell_type": "code",
   "execution_count": 10,
   "id": "eb018dd8",
   "metadata": {},
   "outputs": [
    {
     "name": "stdout",
     "output_type": "stream",
     "text": [
      "Selected columns scaled between 0-1\n"
     ]
    }
   ],
   "source": [
    "from sklearn.preprocessing import MinMaxScaler\n",
    "scaler=MinMaxScaler()\n",
    "scaled_cols=[\"Minutes_listened\",\"Book_length(mins)_overall\",\"Price_overall\",\"Completion\",\"Last_Visited_mins_Purchase_date\"]\n",
    "df[scaled_cols]=scaler.fit_transform(df[scaled_cols])\n",
    "print(\"Selected columns scaled between 0-1\")"
   ]
  },
  {
   "cell_type": "code",
   "execution_count": 11,
   "id": "23752b90",
   "metadata": {},
   "outputs": [
    {
     "name": "stdout",
     "output_type": "stream",
     "text": [
      "Cleaned dataset saved as audiobook_data_cleaned.csv\n"
     ]
    },
    {
     "data": {
      "text/html": [
       "<div>\n",
       "<style scoped>\n",
       "    .dataframe tbody tr th:only-of-type {\n",
       "        vertical-align: middle;\n",
       "    }\n",
       "\n",
       "    .dataframe tbody tr th {\n",
       "        vertical-align: top;\n",
       "    }\n",
       "\n",
       "    .dataframe thead th {\n",
       "        text-align: right;\n",
       "    }\n",
       "</style>\n",
       "<table border=\"1\" class=\"dataframe\">\n",
       "  <thead>\n",
       "    <tr style=\"text-align: right;\">\n",
       "      <th></th>\n",
       "      <th>Unnamed: 0</th>\n",
       "      <th>Book_length(mins)_overall</th>\n",
       "      <th>Book_length(mins)_avg</th>\n",
       "      <th>Price_overall</th>\n",
       "      <th>Price_avg</th>\n",
       "      <th>Review</th>\n",
       "      <th>Review10/10</th>\n",
       "      <th>Completion</th>\n",
       "      <th>Minutes_listened</th>\n",
       "      <th>Support_Request</th>\n",
       "      <th>Last_Visited_mins_Purchase_date</th>\n",
       "      <th>Target</th>\n",
       "      <th>Listening_Efficiency</th>\n",
       "      <th>Value_for_money</th>\n",
       "    </tr>\n",
       "  </thead>\n",
       "  <tbody>\n",
       "    <tr>\n",
       "      <th>0</th>\n",
       "      <td>994.0</td>\n",
       "      <td>0.722222</td>\n",
       "      <td>1620.0</td>\n",
       "      <td>1.000000</td>\n",
       "      <td>12.005</td>\n",
       "      <td>0.0</td>\n",
       "      <td>8.91</td>\n",
       "      <td>1.000000</td>\n",
       "      <td>1.000000</td>\n",
       "      <td>0.0</td>\n",
       "      <td>0.350476</td>\n",
       "      <td>0</td>\n",
       "      <td>0.299815</td>\n",
       "      <td>37.370242</td>\n",
       "    </tr>\n",
       "    <tr>\n",
       "      <th>1</th>\n",
       "      <td>1143.0</td>\n",
       "      <td>1.000000</td>\n",
       "      <td>2160.0</td>\n",
       "      <td>0.180479</td>\n",
       "      <td>5.330</td>\n",
       "      <td>0.0</td>\n",
       "      <td>8.91</td>\n",
       "      <td>0.000000</td>\n",
       "      <td>0.000000</td>\n",
       "      <td>0.0</td>\n",
       "      <td>0.000000</td>\n",
       "      <td>0</td>\n",
       "      <td>0.000000</td>\n",
       "      <td>0.000000</td>\n",
       "    </tr>\n",
       "    <tr>\n",
       "      <th>2</th>\n",
       "      <td>2059.0</td>\n",
       "      <td>1.000000</td>\n",
       "      <td>2160.0</td>\n",
       "      <td>0.180479</td>\n",
       "      <td>5.330</td>\n",
       "      <td>0.0</td>\n",
       "      <td>8.91</td>\n",
       "      <td>0.000000</td>\n",
       "      <td>0.000000</td>\n",
       "      <td>0.0</td>\n",
       "      <td>1.000000</td>\n",
       "      <td>0</td>\n",
       "      <td>0.000000</td>\n",
       "      <td>0.000000</td>\n",
       "    </tr>\n",
       "    <tr>\n",
       "      <th>3</th>\n",
       "      <td>2882.0</td>\n",
       "      <td>0.722222</td>\n",
       "      <td>1620.0</td>\n",
       "      <td>0.257827</td>\n",
       "      <td>5.960</td>\n",
       "      <td>0.0</td>\n",
       "      <td>8.91</td>\n",
       "      <td>1.000000</td>\n",
       "      <td>1.000000</td>\n",
       "      <td>0.0</td>\n",
       "      <td>0.491429</td>\n",
       "      <td>0</td>\n",
       "      <td>0.299815</td>\n",
       "      <td>69.827586</td>\n",
       "    </tr>\n",
       "    <tr>\n",
       "      <th>4</th>\n",
       "      <td>3342.0</td>\n",
       "      <td>1.000000</td>\n",
       "      <td>2160.0</td>\n",
       "      <td>0.180479</td>\n",
       "      <td>5.330</td>\n",
       "      <td>0.0</td>\n",
       "      <td>8.91</td>\n",
       "      <td>0.676923</td>\n",
       "      <td>0.977778</td>\n",
       "      <td>0.0</td>\n",
       "      <td>1.000000</td>\n",
       "      <td>0</td>\n",
       "      <td>0.219898</td>\n",
       "      <td>75.071090</td>\n",
       "    </tr>\n",
       "  </tbody>\n",
       "</table>\n",
       "</div>"
      ],
      "text/plain": [
       "   Unnamed: 0  Book_length(mins)_overall  Book_length(mins)_avg  \\\n",
       "0       994.0                   0.722222                 1620.0   \n",
       "1      1143.0                   1.000000                 2160.0   \n",
       "2      2059.0                   1.000000                 2160.0   \n",
       "3      2882.0                   0.722222                 1620.0   \n",
       "4      3342.0                   1.000000                 2160.0   \n",
       "\n",
       "   Price_overall  Price_avg  Review  Review10/10  Completion  \\\n",
       "0       1.000000     12.005     0.0         8.91    1.000000   \n",
       "1       0.180479      5.330     0.0         8.91    0.000000   \n",
       "2       0.180479      5.330     0.0         8.91    0.000000   \n",
       "3       0.257827      5.960     0.0         8.91    1.000000   \n",
       "4       0.180479      5.330     0.0         8.91    0.676923   \n",
       "\n",
       "   Minutes_listened  Support_Request  Last_Visited_mins_Purchase_date  Target  \\\n",
       "0          1.000000              0.0                         0.350476       0   \n",
       "1          0.000000              0.0                         0.000000       0   \n",
       "2          0.000000              0.0                         1.000000       0   \n",
       "3          1.000000              0.0                         0.491429       0   \n",
       "4          0.977778              0.0                         1.000000       0   \n",
       "\n",
       "   Listening_Efficiency  Value_for_money  \n",
       "0              0.299815        37.370242  \n",
       "1              0.000000         0.000000  \n",
       "2              0.000000         0.000000  \n",
       "3              0.299815        69.827586  \n",
       "4              0.219898        75.071090  "
      ]
     },
     "execution_count": 11,
     "metadata": {},
     "output_type": "execute_result"
    }
   ],
   "source": [
    "df.to_csv(\"audiobook_data_cleaned.csv\", index=False)\n",
    "print(\"Cleaned dataset saved as audiobook_data_cleaned.csv\")\n",
    "df.head()\n"
   ]
  },
  {
   "cell_type": "code",
   "execution_count": null,
   "id": "c580635e",
   "metadata": {},
   "outputs": [],
   "source": []
  }
 ],
 "metadata": {
  "kernelspec": {
   "display_name": "base",
   "language": "python",
   "name": "python3"
  },
  "language_info": {
   "codemirror_mode": {
    "name": "ipython",
    "version": 3
   },
   "file_extension": ".py",
   "mimetype": "text/x-python",
   "name": "python",
   "nbconvert_exporter": "python",
   "pygments_lexer": "ipython3",
   "version": "3.12.4"
  }
 },
 "nbformat": 4,
 "nbformat_minor": 5
}
