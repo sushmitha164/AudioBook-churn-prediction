{
 "cells": [
  {
   "cell_type": "code",
   "execution_count": 1,
   "id": "d354a216",
   "metadata": {},
   "outputs": [],
   "source": [
    "import pandas as pd\n",
    "import numpy as np\n"
   ]
  },
  {
   "cell_type": "code",
   "execution_count": 2,
   "id": "2f587cff",
   "metadata": {},
   "outputs": [
    {
     "name": "stdout",
     "output_type": "stream",
     "text": [
      "Shape of the dataset: (14084, 14)\n"
     ]
    }
   ],
   "source": [
    "df = pd.read_csv(\"audiobook_data_cleaned.csv\")\n",
    "print(\"Shape of the dataset:\", df.shape)\n"
   ]
  },
  {
   "cell_type": "code",
   "execution_count": 3,
   "id": "cebef23b",
   "metadata": {},
   "outputs": [],
   "source": [
    "# Listening Ratio = minutes actually listened / book length\n",
    "df['Listening_Ratio'] = df['Minutes_listened'] / (df['Book_length(mins)_overall'] + 1)"
   ]
  },
  {
   "cell_type": "code",
   "execution_count": 4,
   "id": "592e6567",
   "metadata": {},
   "outputs": [],
   "source": [
    "# Recency = how long ago they visited\n",
    "df['Recency'] = df['Last_Visited_mins_Purchase_date']"
   ]
  },
  {
   "cell_type": "code",
   "execution_count": 6,
   "id": "4bec6033",
   "metadata": {},
   "outputs": [],
   "source": [
    "# Value Score = how much value they got (money + completion)\n",
    "df['Value_Score'] = (df['Minutes_listened'] / (df['Price_overall'] + 1)) * df['Completion']\n"
   ]
  },
  {
   "cell_type": "code",
   "execution_count": 7,
   "id": "6716f735",
   "metadata": {},
   "outputs": [],
   "source": [
    "# Engagement Level = average of completion and minutes listened\n",
    "df['Engagement'] = (df['Completion'] + df['Minutes_listened']) / 2\n"
   ]
  },
  {
   "cell_type": "code",
   "execution_count": 8,
   "id": "9d8be48f",
   "metadata": {},
   "outputs": [],
   "source": [
    "# Support Interaction Flag = did the customer ask for support?\n",
    "df['Needs_Support'] = (df['Support_Request'] > 0).astype(int)\n"
   ]
  },
  {
   "cell_type": "code",
   "execution_count": 10,
   "id": "06e45cd0",
   "metadata": {},
   "outputs": [
    {
     "name": "stdout",
     "output_type": "stream",
     "text": [
      "New features created: Listening_Ratio, Recency, Value_Score, Engagement, Needs_Support\n",
      "Feature-engineered dataset saved as audiobook_features.csv\n",
      "   Unnamed: 0  Book_length(mins)_overall  Book_length(mins)_avg  \\\n",
      "0       994.0                   0.722222                 1620.0   \n",
      "1      1143.0                   1.000000                 2160.0   \n",
      "2      2059.0                   1.000000                 2160.0   \n",
      "3      2882.0                   0.722222                 1620.0   \n",
      "4      3342.0                   1.000000                 2160.0   \n",
      "\n",
      "   Price_overall  Price_avg  Review  Review10/10  Completion  \\\n",
      "0       1.000000     12.005     0.0         8.91    1.000000   \n",
      "1       0.180479      5.330     0.0         8.91    0.000000   \n",
      "2       0.180479      5.330     0.0         8.91    0.000000   \n",
      "3       0.257827      5.960     0.0         8.91    1.000000   \n",
      "4       0.180479      5.330     0.0         8.91    0.676923   \n",
      "\n",
      "   Minutes_listened  Support_Request  Last_Visited_mins_Purchase_date  Target  \\\n",
      "0          1.000000              0.0                         0.350476       0   \n",
      "1          0.000000              0.0                         0.000000       0   \n",
      "2          0.000000              0.0                         1.000000       0   \n",
      "3          1.000000              0.0                         0.491429       0   \n",
      "4          0.977778              0.0                         1.000000       0   \n",
      "\n",
      "   Listening_Efficiency  Value_for_money  Listening_Ratio   Recency  \\\n",
      "0              0.299815        37.370242         0.580645  0.350476   \n",
      "1              0.000000         0.000000         0.000000  0.000000   \n",
      "2              0.000000         0.000000         0.000000  1.000000   \n",
      "3              0.299815        69.827586         0.580645  0.491429   \n",
      "4              0.219898        75.071090         0.488889  1.000000   \n",
      "\n",
      "   Value_Score  Engagement  Needs_Support  \n",
      "0     0.500000     1.00000              0  \n",
      "1     0.000000     0.00000              0  \n",
      "2     0.000000     0.00000              0  \n",
      "3     0.795022     1.00000              0  \n",
      "4     0.560688     0.82735              0  \n"
     ]
    }
   ],
   "source": [
    "print(\"New features created: Listening_Ratio, Recency, Value_Score, Engagement, Needs_Support\")\n",
    "\n",
    "df.to_csv(\"audiobook_features.csv\", index=False)\n",
    "print(\"Feature-engineered dataset saved as audiobook_features.csv\")\n",
    "\n",
    "# Quick check\n",
    "print(df.head())"
   ]
  },
  {
   "cell_type": "code",
   "execution_count": null,
   "id": "92456600",
   "metadata": {},
   "outputs": [],
   "source": []
  },
  {
   "cell_type": "code",
   "execution_count": null,
   "id": "5e570e46",
   "metadata": {},
   "outputs": [],
   "source": []
  }
 ],
 "metadata": {
  "kernelspec": {
   "display_name": "base",
   "language": "python",
   "name": "python3"
  },
  "language_info": {
   "codemirror_mode": {
    "name": "ipython",
    "version": 3
   },
   "file_extension": ".py",
   "mimetype": "text/x-python",
   "name": "python",
   "nbconvert_exporter": "python",
   "pygments_lexer": "ipython3",
   "version": "3.12.4"
  }
 },
 "nbformat": 4,
 "nbformat_minor": 5
}
